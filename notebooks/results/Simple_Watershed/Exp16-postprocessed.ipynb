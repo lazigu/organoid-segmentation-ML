{
 "cells": [
  {
   "cell_type": "code",
   "execution_count": 116,
   "id": "3ae3dd00-8307-4185-8af5-bfa68c923aa0",
   "metadata": {},
   "outputs": [
    {
     "name": "stdout",
     "output_type": "stream",
     "text": [
      "Working dir: C:\\Users\\lazi257c\\Projects\\organoid-segmentation-ML\\notebooks\\results\\Simple_Watershed\n",
      "Project dir: C:\\Users\\lazi257c\\Projects\\organoid-segmentation-ML\n"
     ]
    }
   ],
   "source": [
    "import matplotlib.pyplot as plt\n",
    "from stardist.models import StarDist3D\n",
    "import numpy as np\n",
    "import pandas as pd\n",
    "import matplotlib.pyplot as plt\n",
    "from skimage.segmentation import relabel_sequential\n",
    "from tifffile import imread\n",
    "from stardist.matching import matching, matching_dataset, group_matching_labels\n",
    "from tqdm import tqdm\n",
    "from skimage.segmentation import relabel_sequential\n",
    "import statistics\n",
    "import surface_distance\n",
    "\n",
    "import sys\n",
    "import os\n",
    "from pathlib import Path\n",
    "\n",
    "cwd = os.getcwd()\n",
    "print(f\"Working dir: {cwd}\")\n",
    "module_path = os.path.abspath(Path(cwd).parents[2])\n",
    "print(f\"Project dir: {module_path}\")\n",
    "if module_path not in sys.path:\n",
    "    sys.path.append(module_path)\n",
    "    \n",
    "from src.tools.utils import load_yaml, get_tensorboard_logs\n",
    "from src.data.preprocess_utils import load_files, resample_crop_downsample\n",
    "from src.models.stardist3D import stardist_predict, threshold_optimization\n",
    "from src.evaluation.evaluate_models import get_boundary_based_metrics_per_object\n",
    "import seaborn as sns\n",
    "\n",
    "sns.set(font_scale=1.2)\n",
    "sns.set_palette(\"Set2\")"
   ]
  },
  {
   "cell_type": "code",
   "execution_count": 117,
   "id": "3d77b993-2115-454b-80ee-a9c390070ee5",
   "metadata": {},
   "outputs": [],
   "source": [
    "exp_dir = os.path.join(module_path, \"experiments\", \"exp16_only_watershed\")\n",
    "Path(os.path.join(module_path, \"reports\", \"figures\", \"watershed\")).mkdir(parents=True, exist_ok=True)   # create dir to save figures"
   ]
  },
  {
   "cell_type": "markdown",
   "id": "dc86545b-3ffc-4085-b6e8-89aefd8b915c",
   "metadata": {},
   "source": [
    "## Load predictions"
   ]
  },
  {
   "cell_type": "code",
   "execution_count": 7,
   "id": "c36fa479-17c2-4334-9890-78c6d26d0664",
   "metadata": {},
   "outputs": [
    {
     "name": "stdout",
     "output_type": "stream",
     "text": [
      "Loading files with step size: 1 from D:\\Alf_Honigmann_mESC_LightSheet\\organoid-segmentation-ML\\experiments\\exp16_only_watershed\\results_sigma5_outline2\n"
     ]
    }
   ],
   "source": [
    "predictions1= load_files(os.path.join(exp_dir, \"results_sigma5_outline2\"))"
   ]
  },
  {
   "cell_type": "code",
   "execution_count": 5,
   "id": "400907bb-16dd-4d49-80bf-e9246d46951a",
   "metadata": {},
   "outputs": [
    {
     "name": "stdout",
     "output_type": "stream",
     "text": [
      "Loading files with step size: 1 from D:\\Alf_Honigmann_mESC_LightSheet\\organoid-segmentation-ML\\experiments\\exp16_only_watershed\\results_sigma5_outline2\\matched\\postprocessed\n"
     ]
    }
   ],
   "source": [
    "predictions2 = load_files(os.path.join(exp_dir, \"results_sigma5_outline2\", \"matched\", \"postprocessed\"))"
   ]
  },
  {
   "cell_type": "code",
   "execution_count": 29,
   "id": "190c42e8-39f9-49f6-b96f-1c2aeb4cd9f2",
   "metadata": {},
   "outputs": [
    {
     "name": "stdout",
     "output_type": "stream",
     "text": [
      "Loading files with step size: 1 from D:\\Alf_Honigmann_mESC_LightSheet\\organoid-segmentation-ML\\experiments\\exp16_only_watershed\\results_sigma5_outline2\\matched\\postprocessed\\matched\\smoothed\n"
     ]
    }
   ],
   "source": [
    "predictions2_1 = load_files(os.path.join(exp_dir, \"results_sigma5_outline2\", \"matched\", \"postprocessed\",\"matched\",  \"smoothed\"))"
   ]
  },
  {
   "cell_type": "code",
   "execution_count": 38,
   "id": "716bdf46-4b0f-4fe6-b1bb-690e0b2e88be",
   "metadata": {},
   "outputs": [
    {
     "name": "stdout",
     "output_type": "stream",
     "text": [
      "Loading files with step size: 1 from D:\\Alf_Honigmann_mESC_LightSheet\\organoid-segmentation-ML\\experiments\\exp16_only_watershed\\results_sigma5_outline2\\matched\\postprocessed\\matched\\smoothed\\removed_2nd\n"
     ]
    }
   ],
   "source": [
    "predictions3 = load_files(os.path.join(exp_dir, \"results_sigma5_outline2\", \"matched\",\"postprocessed\",\"matched\", \"smoothed\", \"removed_2nd\"))"
   ]
  },
  {
   "cell_type": "markdown",
   "id": "70307e67-120d-4f12-8fec-852b2fd468bf",
   "metadata": {},
   "source": [
    "## Load GT and compute Metrics"
   ]
  },
  {
   "cell_type": "code",
   "execution_count": 8,
   "id": "a99d6b3c-b024-4114-af0e-e3978c045ada",
   "metadata": {},
   "outputs": [],
   "source": [
    "taus = [0.1, 0.2, 0.3, 0.4, 0.5, 0.6, 0.7, 0.8, 0.9]"
   ]
  },
  {
   "cell_type": "code",
   "execution_count": 9,
   "id": "ecbd791d-7d03-475d-ae86-9451ac258ca9",
   "metadata": {},
   "outputs": [
    {
     "name": "stdout",
     "output_type": "stream",
     "text": [
      "Loading files with step size: 1 from D:\\Alf_Honigmann_mESC_LightSheet\\organoid-segmentation-ML\\data\\matched_test_set\\isotropic\n"
     ]
    }
   ],
   "source": [
    "y_true, fnames = load_files(os.path.join(module_path, \"data\", \"matched_test_set\", \"isotropic\"), return_fnames=True)"
   ]
  },
  {
   "cell_type": "code",
   "execution_count": 10,
   "id": "7d7e35e0-30dc-4cd8-8c7c-9038000b3f59",
   "metadata": {},
   "outputs": [
    {
     "name": "stderr",
     "output_type": "stream",
     "text": [
      "100%|████████████████████████████████████████████████████████████████████████████████████| 9/9 [05:11<00:00, 34.60s/it]\n"
     ]
    }
   ],
   "source": [
    "metrics1 = [matching_dataset(np.array(y_true).astype(\"int32\"), np.array(predictions1).astype(\"int32\"), thresh=t, show_progress=False) for t in tqdm(taus)]"
   ]
  },
  {
   "cell_type": "code",
   "execution_count": 11,
   "id": "dfa49f20-9c81-428a-8e3c-5714db1e7f32",
   "metadata": {},
   "outputs": [
    {
     "name": "stderr",
     "output_type": "stream",
     "text": [
      "100%|████████████████████████████████████████████████████████████████████████████████████| 9/9 [04:53<00:00, 32.63s/it]\n"
     ]
    }
   ],
   "source": [
    "metrics2 = [matching_dataset(np.array(y_true).astype(\"int32\"), np.array(predictions2).astype(\"int32\"), thresh=t, show_progress=False) for t in tqdm(taus)]"
   ]
  },
  {
   "cell_type": "code",
   "execution_count": 30,
   "id": "c032bc0c-fab1-4980-8ea8-a45a68477862",
   "metadata": {},
   "outputs": [
    {
     "name": "stderr",
     "output_type": "stream",
     "text": [
      "100%|████████████████████████████████████████████████████████████████████████████████████| 9/9 [05:06<00:00, 34.03s/it]\n"
     ]
    }
   ],
   "source": [
    "metrics2_1 = [matching_dataset(np.array(y_true).astype(\"int32\"), np.array(predictions2_1).astype(\"int32\"), thresh=t, show_progress=False) for t in tqdm(taus)]"
   ]
  },
  {
   "cell_type": "markdown",
   "id": "5cb8d29f-67c6-43e9-8dc8-379a8ff8e2cf",
   "metadata": {},
   "source": [
    "## Metrics Plots"
   ]
  },
  {
   "cell_type": "code",
   "execution_count": 121,
   "id": "58d5417d-e559-4c68-ad50-e3d605089dd5",
   "metadata": {},
   "outputs": [
    {
     "data": {
      "image/png": "[encoded data removed]",
      "text/plain": [
       "<Figure size 864x288 with 3 Axes>"
      ]
     },
     "metadata": {},
     "output_type": "display_data"
    }
   ],
   "source": [
    "fig, axes = plt.subplots(nrows=1, ncols=3, figsize=(12,4))\n",
    "labels = [\"results_sigma5_outline2\", \"postprocessed\", \"smoothed\"]\n",
    "metrics = [metrics1[3], metrics2[3], metrics2_1[3]]\n",
    "for met, ax,lbl in zip(metrics, axes.flatten(), labels):\n",
    "    cm_data_1 = []\n",
    "    cm_data_2 = []\n",
    "\n",
    "    for m in ('tp', 'fn', 'fp'):\n",
    "        if m == \"tp\" or m == \"fn\":\n",
    "            cm_data_1.append(met._asdict()[m])\n",
    "        elif m == \"fp\":\n",
    "            cm_data_2.append(met._asdict()[m])\n",
    "            \n",
    "    cm_data_2.append(0)  # tn are not known\n",
    "    cm_data = [cm_data_1, cm_data_2]\n",
    "    sns.heatmap(cm_data, annot=True, vmax = 360, cmap='Blues', fmt='d', xticklabels=False, yticklabels=False, ax=ax, cbar = False, annot_kws={'fontsize': 22})\n",
    "    ax.title.set_text(lbl)\n",
    "    \n",
    "plt.savefig(os.path.join(module_path, \"reports\", \"figures\", \"watershed\", \"simple_wt_postprocessed_cm.png\"), bbox_inches='tight')"
   ]
  },
  {
   "cell_type": "code",
   "execution_count": 19,
   "id": "8df27078-b94f-483a-9165-c45f7ab39e5e",
   "metadata": {},
   "outputs": [],
   "source": [
    "metrics_combined = {}\n",
    "\n",
    "for m in ('tp', 'fn', 'fp', \"precision\", \"recall\", \"accuracy\", \"f1\", \"mean_matched_score\", \"panoptic_quality\"):\n",
    "    metrics_combined[m] = metrics1[2]._asdict()[m]"
   ]
  },
  {
   "cell_type": "code",
   "execution_count": 60,
   "id": "42ee858b-e8ec-423c-bb62-3df2c80d4465",
   "metadata": {},
   "outputs": [],
   "source": [
    "metrics_combined.update(\n",
    "{\n",
    "    'Mean distance from the GT to predicted surface in microns': res_df[\"avrg_d_from_gt_to_pred\"].mean(),\n",
    "    \"Mean distance from predicted to the GT surface in microns\": res_df[\"avrg_d_from_pred_to_gt\"].mean(),\n",
    "    \"Mean Hausdorff95 distance\": res_df[\"HD95\"].mean(),\n",
    "    \"Mean surface overlap fraction of GT surfaces with predicted surfaces\": res_df[\"surf_overlap_of_gt_surf_w_pred_surf\"].mean(),\n",
    "    \"Mean surface overlap fraction of the predicted surfaces with the GT surfaces\": res_df[\"surf_overlap_of_pred_surf_w_gt_surf\"].mean(),\n",
    "    \"Mean surface DSC\": res_df[\"DSCsurf\"].mean(),\n",
    "    \"Mean volume DSC over matched objects\": res_df[\"DSCvol\"].mean(),\n",
    "}\n",
    ")"
   ]
  },
  {
   "cell_type": "code",
   "execution_count": 91,
   "id": "6e97ec6f-55c7-4a85-84f0-d5a8e1daf38c",
   "metadata": {},
   "outputs": [],
   "source": [
    "metrics_combined2 = {}\n",
    "\n",
    "for m in ('tp', 'fn', 'fp', \"precision\", \"recall\", \"accuracy\", \"f1\", \"mean_matched_score\", \"panoptic_quality\"):\n",
    "    metrics_combined2[m] = metrics2[2]._asdict()[m]\n",
    "    "
   ]
  },
  {
   "cell_type": "code",
   "execution_count": 92,
   "id": "a1d3a880-aaa7-4b16-83e3-cd04319082c1",
   "metadata": {},
   "outputs": [],
   "source": [
    "metrics_combined2.update(\n",
    "{\n",
    "    'Mean distance from the GT to predicted surface in microns': res_df2[\"avrg_d_from_gt_to_pred\"].mean(),\n",
    "    \"Mean distance from predicted to the GT surface in microns\": res_df2[\"avrg_d_from_pred_to_gt\"].mean(),\n",
    "    \"Mean Hausdorff95 distance\": res_df2[\"HD95\"].mean(),\n",
    "    \"Mean surface overlap fraction of GT surfaces with predicted surfaces\": res_df2[\"surf_overlap_of_gt_surf_w_pred_surf\"].mean(),\n",
    "    \"Mean surface overlap fraction of the predicted surfaces with the GT surfaces\": res_df2[\"surf_overlap_of_pred_surf_w_gt_surf\"].mean(),\n",
    "    \"Mean surface DSC\": res_df2[\"DSCsurf\"].mean(),\n",
    "    \"Mean volume DSC over matched objects\": res_df2[\"DSCvol\"].mean(),\n",
    "}\n",
    ")"
   ]
  },
  {
   "cell_type": "code",
   "execution_count": 86,
   "id": "92f9e270-6c34-4baf-9bcf-7206dbaca601",
   "metadata": {},
   "outputs": [],
   "source": [
    "metrics_combined2_1 = {}\n",
    "\n",
    "for m in ('tp', 'fn', 'fp', \"precision\", \"recall\", \"accuracy\", \"f1\", \"mean_matched_score\", \"panoptic_quality\"):\n",
    "    metrics_combined2_1[m] = metrics2_1[2]._asdict()[m]"
   ]
  },
  {
   "cell_type": "code",
   "execution_count": 87,
   "id": "1daaed21-f04f-4d5c-a652-58fcb439bed1",
   "metadata": {},
   "outputs": [],
   "source": [
    "metrics_combined2_1.update(\n",
    "{\n",
    "    'Mean distance from the GT to predicted surface in microns': res_df2_1[\"avrg_d_from_gt_to_pred\"].mean(),\n",
    "    \"Mean distance from predicted to the GT surface in microns\": res_df2_1[\"avrg_d_from_pred_to_gt\"].mean(),\n",
    "    \"Mean Hausdorff95 distance\": res_df2_1[\"HD95\"].mean(),\n",
    "    \"Mean surface overlap fraction of GT surfaces with predicted surfaces\": res_df2_1[\"surf_overlap_of_gt_surf_w_pred_surf\"].mean(),\n",
    "    \"Mean surface overlap fraction of the predicted surfaces with the GT surfaces\": res_df2_1[\"surf_overlap_of_pred_surf_w_gt_surf\"].mean(),\n",
    "    \"Mean surface DSC\": res_df2_1[\"DSCsurf\"].mean(),\n",
    "    \"Mean volume DSC over matched objects\": res_df2_1[\"DSCvol\"].mean(),\n",
    "}\n",
    ")"
   ]
  },
  {
   "cell_type": "code",
   "execution_count": 94,
   "id": "23f0815d-76de-4556-93f7-e884b6079fc3",
   "metadata": {},
   "outputs": [
    {
     "data": {
      "text/html": [
       "<div>\n",
       "<style scoped>\n",
       "    .dataframe tbody tr th:only-of-type {\n",
       "        vertical-align: middle;\n",
       "    }\n",
       "\n",
       "    .dataframe tbody tr th {\n",
       "        vertical-align: top;\n",
       "    }\n",
       "\n",
       "    .dataframe thead th {\n",
       "        text-align: right;\n",
       "    }\n",
       "</style>\n",
       "<table border=\"1\" class=\"dataframe\">\n",
       "  <thead>\n",
       "    <tr style=\"text-align: right;\">\n",
       "      <th></th>\n",
       "      <th>tp</th>\n",
       "      <th>fn</th>\n",
       "      <th>fp</th>\n",
       "      <th>precision</th>\n",
       "      <th>recall</th>\n",
       "      <th>accuracy</th>\n",
       "      <th>f1</th>\n",
       "      <th>mean_matched_score</th>\n",
       "      <th>panoptic_quality</th>\n",
       "      <th>Mean distance from the GT to predicted surface in microns</th>\n",
       "      <th>Mean distance from predicted to the GT surface in microns</th>\n",
       "      <th>Mean Hausdorff95 distance</th>\n",
       "      <th>Mean surface overlap fraction of GT surfaces with predicted surfaces</th>\n",
       "      <th>Mean surface overlap fraction of the predicted surfaces with the GT surfaces</th>\n",
       "      <th>Mean surface DSC</th>\n",
       "      <th>Mean volume DSC over matched objects</th>\n",
       "    </tr>\n",
       "  </thead>\n",
       "  <tbody>\n",
       "    <tr>\n",
       "      <th>results_sigma5_outline2</th>\n",
       "      <td>362.0</td>\n",
       "      <td>0.0</td>\n",
       "      <td>120.0</td>\n",
       "      <td>0.751037</td>\n",
       "      <td>1.0</td>\n",
       "      <td>0.751037</td>\n",
       "      <td>0.857820</td>\n",
       "      <td>0.769906</td>\n",
       "      <td>0.660441</td>\n",
       "      <td>0.503010</td>\n",
       "      <td>0.404890</td>\n",
       "      <td>1.455244</td>\n",
       "      <td>0.703077</td>\n",
       "      <td>0.803772</td>\n",
       "      <td>0.747952</td>\n",
       "      <td>0.867087</td>\n",
       "    </tr>\n",
       "    <tr>\n",
       "      <th>postprocessed</th>\n",
       "      <td>362.0</td>\n",
       "      <td>0.0</td>\n",
       "      <td>27.0</td>\n",
       "      <td>0.930591</td>\n",
       "      <td>1.0</td>\n",
       "      <td>0.930591</td>\n",
       "      <td>0.964048</td>\n",
       "      <td>0.791027</td>\n",
       "      <td>0.762588</td>\n",
       "      <td>0.444350</td>\n",
       "      <td>0.374581</td>\n",
       "      <td>1.143888</td>\n",
       "      <td>0.718121</td>\n",
       "      <td>0.815638</td>\n",
       "      <td>0.761870</td>\n",
       "      <td>0.881737</td>\n",
       "    </tr>\n",
       "    <tr>\n",
       "      <th>smoothed</th>\n",
       "      <td>362.0</td>\n",
       "      <td>0.0</td>\n",
       "      <td>27.0</td>\n",
       "      <td>0.930591</td>\n",
       "      <td>1.0</td>\n",
       "      <td>0.930591</td>\n",
       "      <td>0.964048</td>\n",
       "      <td>0.792402</td>\n",
       "      <td>0.763913</td>\n",
       "      <td>0.449848</td>\n",
       "      <td>0.368691</td>\n",
       "      <td>1.153647</td>\n",
       "      <td>0.718663</td>\n",
       "      <td>0.822868</td>\n",
       "      <td>0.765128</td>\n",
       "      <td>0.882560</td>\n",
       "    </tr>\n",
       "  </tbody>\n",
       "</table>\n",
       "</div>"
      ],
      "text/plain": [
       "                            tp   fn     fp  precision  recall  accuracy  \\\n",
       "results_sigma5_outline2  362.0  0.0  120.0   0.751037     1.0  0.751037   \n",
       "postprocessed            362.0  0.0   27.0   0.930591     1.0  0.930591   \n",
       "smoothed                 362.0  0.0   27.0   0.930591     1.0  0.930591   \n",
       "\n",
       "                               f1  mean_matched_score  panoptic_quality  \\\n",
       "results_sigma5_outline2  0.857820            0.769906          0.660441   \n",
       "postprocessed            0.964048            0.791027          0.762588   \n",
       "smoothed                 0.964048            0.792402          0.763913   \n",
       "\n",
       "                         Mean distance from the GT to predicted surface in microns  \\\n",
       "results_sigma5_outline2                                           0.503010           \n",
       "postprocessed                                                     0.444350           \n",
       "smoothed                                                          0.449848           \n",
       "\n",
       "                         Mean distance from predicted to the GT surface in microns  \\\n",
       "results_sigma5_outline2                                           0.404890           \n",
       "postprocessed                                                     0.374581           \n",
       "smoothed                                                          0.368691           \n",
       "\n",
       "                         Mean Hausdorff95 distance  \\\n",
       "results_sigma5_outline2                   1.455244   \n",
       "postprocessed                             1.143888   \n",
       "smoothed                                  1.153647   \n",
       "\n",
       "                         Mean surface overlap fraction of GT surfaces with predicted surfaces  \\\n",
       "results_sigma5_outline2                                           0.703077                      \n",
       "postprocessed                                                     0.718121                      \n",
       "smoothed                                                          0.718663                      \n",
       "\n",
       "                         Mean surface overlap fraction of the predicted surfaces with the GT surfaces  \\\n",
       "results_sigma5_outline2                                           0.803772                              \n",
       "postprocessed                                                     0.815638                              \n",
       "smoothed                                                          0.822868                              \n",
       "\n",
       "                         Mean surface DSC  \\\n",
       "results_sigma5_outline2          0.747952   \n",
       "postprocessed                    0.761870   \n",
       "smoothed                         0.765128   \n",
       "\n",
       "                         Mean volume DSC over matched objects  \n",
       "results_sigma5_outline2                              0.867087  \n",
       "postprocessed                                        0.881737  \n",
       "smoothed                                             0.882560  "
      ]
     },
     "execution_count": 94,
     "metadata": {},
     "output_type": "execute_result"
    }
   ],
   "source": [
    "metrics1_df = pd.DataFrame.from_dict(metrics_combined,orient='index',columns=[\"results_sigma5_outline2\"])\n",
    "metrics2_df = pd.DataFrame.from_dict(metrics_combined2,orient='index',columns=[\"postprocessed\"])\n",
    "metrics2_1_df = pd.DataFrame.from_dict(metrics_combined2_1,orient='index',columns=[\"smoothed\"])\n",
    "df = pd.concat([metrics1_df, metrics2_df, metrics2_1_df], axis=1)\n",
    "df.T"
   ]
  },
  {
   "cell_type": "code",
   "execution_count": 95,
   "id": "86242fdf-ffa1-4d4e-9ccf-11003630cf46",
   "metadata": {},
   "outputs": [
    {
     "name": "stdout",
     "output_type": "stream",
     "text": [
      "\\begin{tabular}{lrrrrrrrrrrrrrrrr}\n",
      "\\toprule\n",
      "{} &     tp &   fn &     fp &  precision &  recall &  accuracy &        f1 &  mean\\_matched\\_score &  panoptic\\_quality &  Mean distance from the GT to predicted surface in microns &  Mean distance from predicted to the GT surface in microns &  Mean Hausdorff95 distance &  Mean surface overlap fraction of GT surfaces with predicted surfaces &  Mean surface overlap fraction of the predicted surfaces with the GT surfaces &  Mean surface DSC &  Mean volume DSC over matched objects \\\\\n",
      "\\midrule\n",
      "results\\_sigma5\\_outline2 &  362.0 &  0.0 &  120.0 &   0.751037 &     1.0 &  0.751037 &  0.857820 &            0.769906 &          0.660441 &                                           0.503010 &                                           0.404890 &                   1.455244 &                                           0.703077 &                                           0.803772 &          0.747952 &                              0.867087 \\\\\n",
      "postprocessed           &  362.0 &  0.0 &   27.0 &   0.930591 &     1.0 &  0.930591 &  0.964048 &            0.791027 &          0.762588 &                                           0.444350 &                                           0.374581 &                   1.143888 &                                           0.718121 &                                           0.815638 &          0.761870 &                              0.881737 \\\\\n",
      "smoothed                &  362.0 &  0.0 &   27.0 &   0.930591 &     1.0 &  0.930591 &  0.964048 &            0.792402 &          0.763913 &                                           0.449848 &                                           0.368691 &                   1.153647 &                                           0.718663 &                                           0.822868 &          0.765128 &                              0.882560 \\\\\n",
      "\\bottomrule\n",
      "\\end{tabular}\n",
      "\n"
     ]
    },
    {
     "name": "stderr",
     "output_type": "stream",
     "text": [
      "3761838652.py (1): In future versions `DataFrame.to_latex` is expected to utilise the base implementation of `Styler.to_latex` for formatting and rendering. The arguments signature may therefore change. It is recommended instead to use `DataFrame.style.to_latex` which also contains additional functionality.\n"
     ]
    }
   ],
   "source": [
    "print(df.T.to_latex())"
   ]
  },
  {
   "cell_type": "markdown",
   "id": "d56b1dc1-ec85-4f18-852c-8868c14488fa",
   "metadata": {},
   "source": [
    "## Boundary based metrics"
   ]
  },
  {
   "cell_type": "code",
   "execution_count": 34,
   "id": "f1f85950-32ed-4719-b425-659f0758d667",
   "metadata": {},
   "outputs": [
    {
     "name": "stderr",
     "output_type": "stream",
     "text": [
      "Computing surface distances dict for each label: 100%|█████████████████████████████████| 35/35 [04:26<00:00,  7.60s/it]\n",
      "metrics.py (317): invalid value encountered in double_scalars\n",
      "metrics.py (319): invalid value encountered in double_scalars\n",
      "metrics.py (388): invalid value encountered in double_scalars\n",
      "metrics.py (391): invalid value encountered in double_scalars\n",
      "metrics.py (421): invalid value encountered in double_scalars\n"
     ]
    }
   ],
   "source": [
    "# tolerance is 3 pixels, values provided in mm because Surface Distance library has in the documentation mm. Returned values are already in microns\n",
    "res_df = get_boundary_based_metrics_per_object(predictions1, y_true, spacing_mm= (0.000173, 0.000173, 0.000173), hausdorff_percent=95.0, tolerance_mm=0.000173*3)"
   ]
  },
  {
   "cell_type": "code",
   "execution_count": 58,
   "id": "92ce18ab-6656-4ed7-8b25-faffceac7b4a",
   "metadata": {},
   "outputs": [],
   "source": [
    "res_df.replace([np.inf, -np.inf], np.nan, inplace=True)  # replace infinite values with nan, they are due to FP"
   ]
  },
  {
   "cell_type": "code",
   "execution_count": 89,
   "id": "6a289f6c-552b-4d86-a466-3bdf34f8f6b6",
   "metadata": {},
   "outputs": [
    {
     "name": "stderr",
     "output_type": "stream",
     "text": [
      "Computing surface distances dict for each label: 100%|█████████████████████████████████| 35/35 [04:26<00:00,  7.63s/it]\n",
      "metrics.py (317): invalid value encountered in double_scalars\n",
      "metrics.py (319): invalid value encountered in double_scalars\n",
      "metrics.py (388): invalid value encountered in double_scalars\n",
      "metrics.py (391): invalid value encountered in double_scalars\n",
      "metrics.py (421): invalid value encountered in double_scalars\n"
     ]
    }
   ],
   "source": [
    "# tolerance is 3 pixels, values provided in mm because Surface Distance library has in the documentation mm. Returned values are already in microns\n",
    "res_df2 = get_boundary_based_metrics_per_object(predictions2, y_true, spacing_mm= (0.000173, 0.000173, 0.000173), hausdorff_percent=95.0, tolerance_mm=0.000173*3)"
   ]
  },
  {
   "cell_type": "code",
   "execution_count": 90,
   "id": "37419524-cabd-46fd-b2e0-b563f691e045",
   "metadata": {},
   "outputs": [],
   "source": [
    "res_df2.replace([np.inf, -np.inf], np.nan, inplace=True)  # replace infinite values with nan, they are due to FP"
   ]
  },
  {
   "cell_type": "code",
   "execution_count": 65,
   "id": "bd49035b-40e3-4702-861e-b68292ee8341",
   "metadata": {},
   "outputs": [
    {
     "name": "stderr",
     "output_type": "stream",
     "text": [
      "Computing surface distances dict for each label: 100%|█████████████████████████████████| 35/35 [04:30<00:00,  7.74s/it]\n",
      "metrics.py (317): invalid value encountered in double_scalars\n",
      "metrics.py (319): invalid value encountered in double_scalars\n",
      "metrics.py (388): invalid value encountered in double_scalars\n",
      "metrics.py (391): invalid value encountered in double_scalars\n",
      "metrics.py (421): invalid value encountered in double_scalars\n"
     ]
    }
   ],
   "source": [
    "# tolerance is 3 pixels, values provided in mm because Surface Distance library has in the documentation mm. Returned values are already in microns\n",
    "res_df2_1 = get_boundary_based_metrics_per_object(predictions2_1, y_true, spacing_mm= (0.000173, 0.000173, 0.000173), hausdorff_percent=95.0, tolerance_mm=0.000173*3)"
   ]
  },
  {
   "cell_type": "code",
   "execution_count": 85,
   "id": "82edbf7b-d843-484a-a387-e9b2d73ab4f0",
   "metadata": {},
   "outputs": [],
   "source": [
    "res_df2_1.replace([np.inf, -np.inf], np.nan, inplace=True)  # replace infinite values with nan, they are due to FP"
   ]
  },
  {
   "cell_type": "code",
   "execution_count": 98,
   "id": "78c543a7-72b7-4e36-94ab-be25c8d27254",
   "metadata": {},
   "outputs": [],
   "source": [
    "res_df_all = pd.concat([res_df, res_df2, res_df2_1], axis=1)"
   ]
  },
  {
   "cell_type": "code",
   "execution_count": 100,
   "id": "136f385b-8ca4-4f32-87ed-899cf17479b4",
   "metadata": {},
   "outputs": [],
   "source": [
    "res_df_all.to_csv(r\"metrics/exp16_postprocessed_distance_metrics_df.csv\")"
   ]
  },
  {
   "cell_type": "code",
   "execution_count": 118,
   "id": "4fcae7bb-ede0-4ead-bf23-d28bfe810985",
   "metadata": {},
   "outputs": [
    {
     "data": {
      "image/png": "[encoded data removed]",
      "text/plain": [
       "<Figure size 504x504 with 1 Axes>"
      ]
     },
     "metadata": {},
     "output_type": "display_data"
    }
   ],
   "source": [
    "f, ax = plt.subplots(1, figsize = (7,7))\n",
    "sns.set(font_scale=1.2)\n",
    "sns.set_palette(\"Set2\")\n",
    "res_df_all.boxplot(column=\"DSCvol\", showmeans=True,ax=ax)\n",
    "ax.set_ylabel(\"DSCvol\")\n",
    "\n",
    "plt.savefig(os.path.join(module_path, \"reports\", \"figures\", \"watershed\", \"exp16_postprocessed_distance_metrics_boxplot_DSCvol.png\"), bbox_inches='tight')"
   ]
  },
  {
   "cell_type": "code",
   "execution_count": 119,
   "id": "01d6003f-fcdc-44b5-857d-ba1a16ecef6c",
   "metadata": {},
   "outputs": [
    {
     "data": {
      "image/png": "[encoded data removed]",
      "text/plain": [
       "<Figure size 504x504 with 1 Axes>"
      ]
     },
     "metadata": {},
     "output_type": "display_data"
    }
   ],
   "source": [
    "f, ax = plt.subplots(1, figsize = (7,7))\n",
    "sns.set(font_scale=1.2)\n",
    "sns.set_palette(\"Set2\")\n",
    "res_df_all.boxplot(column=\"DSCsurf\", showmeans=True,ax=ax)\n",
    "ax.set_ylabel(\"DSCsurf\")\n",
    "\n",
    "plt.savefig(os.path.join(module_path, \"reports\", \"figures\", \"watershed\", \"exp16_postprocessed_distance_metrics_DSCsurf.png\"), bbox_inches='tight')"
   ]
  },
  {
   "cell_type": "code",
   "execution_count": 120,
   "id": "b97308f0-8709-4075-964e-e47438cde19b",
   "metadata": {},
   "outputs": [
    {
     "data": {
      "image/png": "[encoded data removed]",
      "text/plain": [
       "<Figure size 504x504 with 1 Axes>"
      ]
     },
     "metadata": {},
     "output_type": "display_data"
    }
   ],
   "source": [
    "f, ax = plt.subplots(1, figsize = (7,7))\n",
    "sns.set(font_scale=1.2)\n",
    "sns.set_palette(\"Set2\")\n",
    "res_df_all.boxplot(column=\"HD95\", showmeans=True,ax=ax)\n",
    "ax.set_ylabel(\"HD95\")\n",
    "\n",
    "plt.savefig(os.path.join(module_path, \"reports\", \"figures\", \"watershed\", \"exp16_postprocessed_distance_metrics_boxplot_HD95.png\"), bbox_inches='tight')"
   ]
  },
  {
   "cell_type": "code",
   "execution_count": null,
   "id": "b3370a74-5d82-41b7-8bfc-e08bdb6db246",
   "metadata": {},
   "outputs": [],
   "source": []
  }
 ],
 "metadata": {
  "kernelspec": {
   "display_name": "Python 3 (ipykernel)",
   "language": "python",
   "name": "python3"
  },
  "language_info": {
   "codemirror_mode": {
    "name": "ipython",
    "version": 3
   },
   "file_extension": ".py",
   "mimetype": "text/x-python",
   "name": "python",
   "nbconvert_exporter": "python",
   "pygments_lexer": "ipython3",
   "version": "3.9.0"
  }
 },
 "nbformat": 4,
 "nbformat_minor": 5
}
